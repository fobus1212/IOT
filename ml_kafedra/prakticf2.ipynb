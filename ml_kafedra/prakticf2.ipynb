{
 "cells": [
  {
   "cell_type": "markdown",
   "metadata": {},
   "source": [
    "Задание 1 "
   ]
  },
  {
   "cell_type": "code",
   "execution_count": 10,
   "metadata": {},
   "outputs": [
    {
     "name": "stdout",
     "output_type": "stream",
     "text": [
      "0\n"
     ]
    }
   ],
   "source": [
    "def HomeWork(array) :\n",
    "    array=list(set(array))  \n",
    "    len_array=len(array) \n",
    "    if  len_array== 1  : \n",
    "        return 3 \n",
    "    elif len_array == 2 : \n",
    "        return 2  \n",
    "    else : \n",
    "        return 0\n",
    "     \n",
    "array=[1,4,5] \n",
    "res=HomeWork(array) \n",
    "print(res)"
   ]
  },
  {
   "cell_type": "markdown",
   "metadata": {},
   "source": [
    "Задание 2 "
   ]
  },
  {
   "cell_type": "code",
   "execution_count": 11,
   "metadata": {},
   "outputs": [
    {
     "name": "stdout",
     "output_type": "stream",
     "text": [
      "1\n",
      "12\n",
      "123\n"
     ]
    }
   ],
   "source": [
    "inp=int(input(\"Введите целое натуральное число \"))  \n",
    "qup='' \n",
    "for i in range(1,inp+1):  \n",
    "    qup=qup +str(i)\n",
    "    print(qup)"
   ]
  },
  {
   "cell_type": "markdown",
   "metadata": {},
   "source": [
    "Задание 2.1"
   ]
  },
  {
   "cell_type": "code",
   "execution_count": 12,
   "metadata": {},
   "outputs": [
    {
     "name": "stdout",
     "output_type": "stream",
     "text": [
      "   1\n",
      "  121\n",
      " 12321\n",
      "1234321\n"
     ]
    }
   ],
   "source": [
    "inp = int(input(\"Введите целое натуральное число: \"))\n",
    "qup = \"\"\n",
    "puq = \"\"\n",
    "for i in range(1, inp + 1):\n",
    "    qup = puq + str(i)\n",
    "    print(\" \" * (inp - i) + qup + puq[::-1])\n",
    "    puq = qup"
   ]
  },
  {
   "cell_type": "markdown",
   "metadata": {},
   "source": [
    "Задание 3 "
   ]
  },
  {
   "cell_type": "code",
   "execution_count": 13,
   "metadata": {},
   "outputs": [
    {
     "name": "stdout",
     "output_type": "stream",
     "text": [
      "[9, 1, 54, 45, 43, 78, 3, 32, 4, 788, 2456, 454]\n"
     ]
    }
   ],
   "source": [
    "def HomeWork3(inp): \n",
    "    array=[]\n",
    "    for i in range(len(inp)): \n",
    "        if i%2 ==0:  \n",
    "            k=inp[i]\n",
    "            array.append(k)  \n",
    "    return array \n",
    "inp = [9,10,1,34,54,12,45,32,43,56,78,12,3,456,32,1,4,56,788,54,2456,321,454,21] \n",
    "print(HomeWork3(inp)) \n"
   ]
  },
  {
   "cell_type": "markdown",
   "metadata": {},
   "source": [
    "Задание 4"
   ]
  },
  {
   "cell_type": "code",
   "execution_count": 16,
   "metadata": {},
   "outputs": [
    {
     "name": "stdout",
     "output_type": "stream",
     "text": [
      "[8, 19, 2, 21, 34, 54, 99]\n"
     ]
    }
   ],
   "source": [
    "def HomeWork4(inp):     \n",
    "    maxz = max(inp)\n",
    "    minz = min(inp)\n",
    "\n",
    "    max_id = inp.index(maxz)\n",
    "    min_id = inp.index(minz)\n",
    "\n",
    "    inp[max_id] = minz\n",
    "    inp[min_id] = maxz\n",
    "\n",
    "    return inp \n",
    "inp=[8,19,99,21,34,54,2] \n",
    "print(HomeWork4(inp))"
   ]
  },
  {
   "cell_type": "markdown",
   "metadata": {},
   "source": [
    "Задание 5"
   ]
  },
  {
   "cell_type": "code",
   "execution_count": 5,
   "metadata": {},
   "outputs": [
    {
     "name": "stdout",
     "output_type": "stream",
     "text": [
      "1\n"
     ]
    }
   ],
   "source": [
    "def HomeWork5(password):\n",
    "    if len(password) < 12:\n",
    "        return 0\n",
    "    if not any(char.isupper() for char in password):\n",
    "        return 0\n",
    "    if not any(char.islower() for char in password):\n",
    "        return 0\n",
    "    if not any(char.isdigit() for char in password):\n",
    "        return 0\n",
    "    if not any(not char.isalnum() for char in password):\n",
    "        return 0\n",
    "    return 1 \n",
    "password = \"111111Qwery!\" \n",
    "print(HomeWork5(password))"
   ]
  },
  {
   "cell_type": "markdown",
   "metadata": {},
   "source": [
    "Задание 6"
   ]
  },
  {
   "cell_type": "code",
   "execution_count": 9,
   "metadata": {},
   "outputs": [
    {
     "name": "stdout",
     "output_type": "stream",
     "text": [
      "1\n"
     ]
    }
   ],
   "source": [
    "def HomeWork6(poisk) :\n",
    "    result=0\n",
    "    for i in range(len(array)): \n",
    "        if array[i]== poisk: \n",
    "            result= i \n",
    "    return result\n",
    " \n",
    "array=[20,9,77,0,123,43,58,91,82,19,444,901,29]  \n",
    "poisk=int(input())   \n",
    "print(HomeWork6(poisk))"
   ]
  }
 ],
 "metadata": {
  "kernelspec": {
   "display_name": "Python 3",
   "language": "python",
   "name": "python3"
  },
  "language_info": {
   "codemirror_mode": {
    "name": "ipython",
    "version": 3
   },
   "file_extension": ".py",
   "mimetype": "text/x-python",
   "name": "python",
   "nbconvert_exporter": "python",
   "pygments_lexer": "ipython3",
   "version": "3.10.11"
  }
 },
 "nbformat": 4,
 "nbformat_minor": 2
}
