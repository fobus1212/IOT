{
 "cells": [
  {
   "cell_type": "code",
   "execution_count": 1,
   "metadata": {},
   "outputs": [],
   "source": [
    "import numpy as np\n",
    "from sklearn.feature_extraction.text import TfidfVectorizer\n",
    "from sklearn.metrics.pairwise import cosine_similarity\n",
    "import re"
   ]
  },
  {
   "cell_type": "code",
   "execution_count": 9,
   "metadata": {},
   "outputs": [],
   "source": [
    "Myarray= ['C:/Users/fobus/Desktop/GIT_TEST/nltk/HomeWork2/The Hobbit 1937.txt','C:/Users/fobus/Desktop/GIT_TEST/nltk/HomeWork2/Two Towers 1954.txt', \n",
    "    'C:/Users/fobus/Desktop/GIT_TEST/nltk/HomeWork2/The Fellowship of the Ring 1954.txt','C:/Users/fobus/Desktop/GIT_TEST/nltk/HomeWork2/THE ADVENTURES OF TOM BOMBADIL 1967.txt', \n",
    "    'C:/Users/fobus/Desktop/GIT_TEST/nltk/HomeWork2/The Silmarillion 1977.txt','C:/Users/fobus/Desktop/GIT_TEST/nltk/HomeWork2/The Children 2007.txt'] "
   ]
  },
  {
   "cell_type": "code",
   "execution_count": 10,
   "metadata": {},
   "outputs": [
    {
     "name": "stdout",
     "output_type": "stream",
     "text": [
      "Матрица косинусного сходства между текстами:\n",
      "[[1.         0.11003822 0.18712256 0.18712256 0.31484573 0.31484573]\n",
      " [0.11003822 1.         0.06539912 0.06539912 0.11003822 0.11003822]\n",
      " [0.18712256 0.06539912 1.         0.27395034 0.18712256 0.18712256]\n",
      " [0.18712256 0.06539912 0.27395034 1.         0.18712256 0.18712256]\n",
      " [0.31484573 0.11003822 0.18712256 0.18712256 1.         0.31484573]\n",
      " [0.31484573 0.11003822 0.18712256 0.18712256 0.31484573 1.        ]]\n"
     ]
    }
   ],
   "source": [
    "\n",
    "class TextProcessor:\n",
    "    def __init__(self, texts):\n",
    "        self.texts = texts\n",
    "        self.processed_texts = self.preprocess_texts()\n",
    "\n",
    "    def preprocess_texts(self):\n",
    "        processed_texts = []\n",
    "        for text in self.texts:\n",
    "            text = text.lower()\n",
    "            text = re.sub(r'[^a-zA-Z ]', '', text)\n",
    "            processed_texts.append(text)\n",
    "        return processed_texts\n",
    "\n",
    "    def calculate_cosine_similarity(self):\n",
    "        vectorizer = TfidfVectorizer()\n",
    "        tfidf_matrix = vectorizer.fit_transform(self.processed_texts)\n",
    "        similarity_matrix = cosine_similarity(tfidf_matrix, tfidf_matrix)\n",
    "        return similarity_matrix\n",
    " \n",
    "texts = Myarray\n",
    "\n",
    "text_processor = TextProcessor(texts)\n",
    "similarity_matrix = text_processor.calculate_cosine_similarity()\n",
    "\n",
    "print(\"Матрица косинусного сходства между текстами:\")\n",
    "print(similarity_matrix)"
   ]
  }
 ],
 "metadata": {
  "kernelspec": {
   "display_name": "Python 3",
   "language": "python",
   "name": "python3"
  },
  "language_info": {
   "codemirror_mode": {
    "name": "ipython",
    "version": 3
   },
   "file_extension": ".py",
   "mimetype": "text/x-python",
   "name": "python",
   "nbconvert_exporter": "python",
   "pygments_lexer": "ipython3",
   "version": "3.10.11"
  }
 },
 "nbformat": 4,
 "nbformat_minor": 2
}
