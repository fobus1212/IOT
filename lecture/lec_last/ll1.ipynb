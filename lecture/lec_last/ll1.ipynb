{
 "cells": [
  {
   "cell_type": "code",
   "execution_count": 62,
   "metadata": {},
   "outputs": [
    {
     "name": "stdout",
     "output_type": "stream",
     "text": [
      "[0, 1, 4, 9, 16, 25, 36, 49, 64, 81]\n",
      "<generator object gen_squred at 0x000001A30F798EB0>\n"
     ]
    }
   ],
   "source": [
    "def squared(num:int) -> list[int]: \n",
    "    return [n**2 for n in range(num)] \n",
    " \n",
    "def gen_squred(num:int)-> list[int]: \n",
    "    new_list=[] \n",
    "    for n in range(num): \n",
    "        yield n **2 \n",
    "\n",
    "print(squared(10)) \n",
    "print(gen_squred(10))"
   ]
  },
  {
   "cell_type": "code",
   "execution_count": null,
   "metadata": {},
   "outputs": [],
   "source": []
  },
  {
   "cell_type": "code",
   "execution_count": null,
   "metadata": {},
   "outputs": [],
   "source": []
  },
  {
   "cell_type": "code",
   "execution_count": 63,
   "metadata": {},
   "outputs": [],
   "source": [
    "def hate_40(num :  int ) ->list[int]: \n",
    "    for i in range(num): \n",
    "        if i *10 !=40: \n",
    "            yield i *10  \n",
    "        else: \n",
    "            return 30 \n",
    "    list(hate_40(80))"
   ]
  },
  {
   "cell_type": "code",
   "execution_count": 64,
   "metadata": {},
   "outputs": [
    {
     "data": {
      "text/plain": [
       "0"
      ]
     },
     "execution_count": 64,
     "metadata": {},
     "output_type": "execute_result"
    }
   ],
   "source": [
    "a=hate_40(10000)\n",
    "next(a)"
   ]
  }
 ],
 "metadata": {
  "kernelspec": {
   "display_name": "Python 3",
   "language": "python",
   "name": "python3"
  },
  "language_info": {
   "codemirror_mode": {
    "name": "ipython",
    "version": 3
   },
   "file_extension": ".py",
   "mimetype": "text/x-python",
   "name": "python",
   "nbconvert_exporter": "python",
   "pygments_lexer": "ipython3",
   "version": "3.10.11"
  }
 },
 "nbformat": 4,
 "nbformat_minor": 2
}
