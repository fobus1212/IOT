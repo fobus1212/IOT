{
 "cells": [
  {
   "cell_type": "code",
   "execution_count": null,
   "metadata": {},
   "outputs": [],
   "source": [
    "class Bird:\n",
    "    def init(\n",
    "        self,\n",
    "        wings_length: float = 12.5,\n",
    "        legs_length: float = 3.5,\n",
    "        color: str = 'red'\n",
    "    ):\n",
    "        self.wings.length = wings_length\n",
    "        self.legs.length = legs_length\n",
    "        self.color = color\n",
    "        print('Bird initialized')\n",
    "        \n",
    "    def fly(self):\n",
    "        print('I fly')\n",
    "        \n",
    "    def swim(self):\n",
    "        print('I swim')\n",
    "        \n",
    "    def walk(self):\n",
    "        print('I walk')\n",
    "        \n",
    "    def make_noise(self):\n",
    "        print('Tweet')"
   ]
  },
  {
   "cell_type": "code",
   "execution_count": null,
   "metadata": {},
   "outputs": [],
   "source": [
    "class RubeerToy : \n",
    "    toxic:bool= False \n",
    "    size_sm: float= 12 \n",
    "    color:str = \"yellow\" \n",
    "     \n",
    "    def bonce(self): \n",
    "        print(\"plums\") \n",
    "         \n",
    "    def defore(self): \n",
    "        print(\"morpting time \") \n",
    "         \n",
    "    def MakeNoise(self) \n",
    "        print(\"peep\")"
   ]
  }
 ],
 "metadata": {
  "language_info": {
   "name": "python"
  },
  "orig_nbformat": 4
 },
 "nbformat": 4,
 "nbformat_minor": 2
}
