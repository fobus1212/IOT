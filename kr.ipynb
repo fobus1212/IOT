{
 "cells": [
  {
   "cell_type": "code",
   "execution_count": 10,
   "metadata": {},
   "outputs": [],
   "source": [
    "import numpy as np\n"
   ]
  },
  {
   "cell_type": "code",
   "execution_count": 11,
   "metadata": {},
   "outputs": [],
   "source": [
    "class GramSchmidt:\n",
    "    def __init__(self, matrix):\n",
    "        self.matrix = matrix"
   ]
  },
  {
   "cell_type": "code",
   "execution_count": 12,
   "metadata": {},
   "outputs": [],
   "source": [
    "def gram_schmidt(self):\n",
    "        basis = []  \n",
    "\n",
    "# Ортогонализация первого вектора\n",
    "        v0 = np.float64(self.matrix[0])  # приводим  к типу np.float\n",
    "        basis.append(v0)  # добавляем  в список basis\n",
    "\n",
    "# Ортогонализация других векторов\n",
    "        for i in range(1, len(self.matrix)):\n",
    "            vi = np.float64(self.matrix[i])  # приводим к типу np.float\n",
    "\n",
    "# Вычитаем проекции на уже найденные ортогональные векторы\n",
    "            for j in range(i):\n",
    "                fj = basis[j]  # текущий ортогональный вектор\n",
    "                projection = np.dot(vi, fj) / np.dot(fj, fj)  # вычисляем проекцию на fj\n",
    "                vi -= projection * fj  # вычитаем проекцию из текущего вектора\n",
    "\n",
    "# Проверяем длину вектора vi\n",
    "            if np.linalg.norm(vi) > 1e-10:  #\n",
    "                basis.append(vi)  # \n",
    "\n",
    "# Нормализуем все векторы в списке basis\n",
    "        basis = [v / np.linalg.norm(v) for v in basis]\n",
    "\n",
    "        return basis"
   ]
  },
  {
   "cell_type": "code",
   "execution_count": 13,
   "metadata": {},
   "outputs": [
    {
     "name": "stdout",
     "output_type": "stream",
     "text": [
      "[array([0.70710678, 0.70710678]), array([ 0.70710678, -0.70710678])]\n"
     ]
    }
   ],
   "source": [
    "matrix = Matrix([[1, 1], [1, 0]])\n",
    "basis = matrix.gram_schmidt()\n",
    "print(basis)"
   ]
  }
 ],
 "metadata": {
  "kernelspec": {
   "display_name": "Python 3",
   "language": "python",
   "name": "python3"
  },
  "language_info": {
   "codemirror_mode": {
    "name": "ipython",
    "version": 3
   },
   "file_extension": ".py",
   "mimetype": "text/x-python",
   "name": "python",
   "nbconvert_exporter": "python",
   "pygments_lexer": "ipython3",
   "version": "3.9.13"
  },
  "orig_nbformat": 4
 },
 "nbformat": 4,
 "nbformat_minor": 2
}
